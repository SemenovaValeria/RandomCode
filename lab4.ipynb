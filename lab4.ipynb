{
 "cells": [
  {
   "cell_type": "code",
   "execution_count": 7,
   "metadata": {},
   "outputs": [],
   "source": [
    "from DEVS import *\n",
    "import random\n",
    "import numpy as np\n",
    "import matplotlib.pyplot as plt\n",
    "from scipy import stats\n",
    "from statistics import mean\n",
    "from math import sqrt\n",
    "from scipy.stats import t"
   ]
  },
  {
   "cell_type": "code",
   "execution_count": 8,
   "metadata": {},
   "outputs": [],
   "source": [
    "def DrawSampleHistogram(R,title,bins=None):\n",
    "    fig = plt.figure()\n",
    "    x = np.arange(len(R)) \n",
    "    plt.grid()       \n",
    "    if(bins is None):    \n",
    "        plt.hist(R, range=None)\n",
    "    else:\n",
    "        plt.hist(R, bins=bins, range=None)\n",
    "    plt.title(title)\n",
    "    plt.show()"
   ]
  },
  {
   "cell_type": "code",
   "execution_count": 9,
   "metadata": {},
   "outputs": [],
   "source": [
    "class customerStat:\n",
    "    def __init__(self):\n",
    "         self.id = -1\n",
    "         self.arrivalTime = -1\n",
    "         self.serviceTime = -1\n",
    "         self.interArrivalTime = 0\n",
    "         self.serviceBegins = -1\n",
    "         self.waitingTimeInQueue = 0\n",
    "         self.serviceEnds = -1\n",
    "         self.timeInSystem = -1\n",
    "         self.idleTimeOfServer = 0\n",
    "                    \n",
    "# ---- Arrival Event ----\n",
    "class ArrivalEvent:\n",
    "    def __init__(self):\n",
    "         self.eTime = 0.0\n",
    "        \n",
    "    def Execute(self):\n",
    "        customer = customerStat()\n",
    "        customer.id = DEVS.newId\n",
    "        customer.arrivalTime = self.eTime\n",
    "        if(len(DEVS.stats)>0):\n",
    "            customer.interArrivalTime = customer.arrivalTime - DEVS.stats[-1].arrivalTime\n",
    "\n",
    "        if(DEVS.newId<maxAngents-1):       \n",
    "            NextArrival = ArrivalEvent()\n",
    "            NextArrival.eTime = self.eTime+random.randint(arrivalRateMin,arrivalRateMax)                \n",
    "            DEVS.EQ.AddEvent(NextArrival)\n",
    "\n",
    "        # server is Free\n",
    "        if (DEVS.serverIdle == True):\n",
    "            DEVS.serverIdle = False\n",
    "            Service = ServiceEvent()      \n",
    "            serviceTime = custm.rvs()  \n",
    "            customer.serviceTime = serviceTime\n",
    "            customer.serviceBegins = self.eTime # current time\n",
    "            Service.eTime = self.eTime+serviceTime            \n",
    "            Service.id = customer.id            \n",
    "            DEVS.EQ.AddEvent(Service)\n",
    "        # server is Busy\n",
    "        else:\n",
    "            # increase waiting line\n",
    "            DEVS.customerQueue.append(customer.id)\n",
    "\n",
    "        DEVS.newId = DEVS.newId + 1\n",
    "        DEVS.stats.append(customer)\n",
    "        \n",
    "# ---- Service (END) Event ----\n",
    "class ServiceEvent:\n",
    "    def __init__(self):\n",
    "         self.eTime = 0.0\n",
    "         self.id = 0\n",
    "        \n",
    "    def Execute(self):        \n",
    "        ind = [i for i,val in enumerate(DEVS.stats) if val.id == self.id][0]\n",
    "        DEVS.stats[ind].serviceEnds = self.eTime\n",
    "        DEVS.stats[ind].timeInSystem = DEVS.stats[ind].serviceEnds - DEVS.stats[ind].arrivalTime \n",
    "        DEVS.stats[ind].waitingTimeInQueue = DEVS.stats[ind].serviceBegins - DEVS.stats[ind].arrivalTime # 0 without queue\n",
    "        DEVS.stats[ind].idleTimeOfServer = DEVS.stats[ind].serviceBegins - DEVS.lastServedTime\n",
    "        \n",
    "        if(len(DEVS.customerQueue)>0):\n",
    "            qid = DEVS.customerQueue.pop(0)\n",
    "            qind = [i for i,val in enumerate(DEVS.stats) if val.id == qid][0]\n",
    "            Service = ServiceEvent()\n",
    "            serviceTime = custm.rvs()  \n",
    "            Service.eTime = self.eTime+serviceTime\n",
    "            Service.id = qid\n",
    "            DEVS.stats[qind].serviceBegins = self.eTime\n",
    "            DEVS.stats[qind].serviceTime = serviceTime            \n",
    "            DEVS.EQ.AddEvent(Service)        \n",
    "        else:\n",
    "            DEVS.serverIdle = True\n",
    "\n",
    "        DEVS.lastServedTime = self.eTime"
   ]
  },
  {
   "cell_type": "code",
   "execution_count": 10,
   "metadata": {},
   "outputs": [],
   "source": [
    "maxAngents = 1000\n",
    "arrivalRateMin = 1\n",
    "arrivalRateMax = 8\n",
    "service_xk = np.arange(6)+1\n",
    "service_pk = (0.1, 0.2, 0.3, 0.25, 0.1, 0.05)\n",
    "custm = stats.rv_discrete(name='custm', values=(service_xk, service_pk))"
   ]
  },
  {
   "attachments": {},
   "cell_type": "markdown",
   "metadata": {},
   "source": [
    "### Step 1"
   ]
  },
  {
   "cell_type": "code",
   "execution_count": 11,
   "metadata": {},
   "outputs": [
    {
     "name": "stdout",
     "output_type": "stream",
     "text": [
      "Maximum iterations reached. Desired precision may not be achievable.\n",
      "\n",
      "It`s itearion 1000\n",
      "Desired precision: 0.33999999999999997\n",
      "Value of t-critical: 1.6463803454275356\n",
      "_____________________________________\n",
      "\n",
      "Prediction interval: 1.4351 ± 0.3624\n",
      "Confidence interval: 1.4351 ± 0.0113\n"
     ]
    }
   ],
   "source": [
    "serviceTime_avg=[]\n",
    "\n",
    "desired=0.4\n",
    "iters=0\n",
    "max_iters=1000\n",
    "alpha = 0.05\n",
    "\n",
    "\n",
    "while True:\n",
    "    iters+=1\n",
    "    AE = ArrivalEvent()\n",
    "    DEVS.EQ.AddEvent(AE)\n",
    "\n",
    "    # simulation attributes\n",
    "    DEVS.customerQueue = []\n",
    "    DEVS.stats = []\n",
    "    DEVS.newId = 0\n",
    "    DEVS.serverIdle = True\n",
    "    DEVS.lastServedTime = 0 # for Idle time\n",
    "\n",
    "    # --- SIMULATION ---\n",
    "    while DEVS.EQ.QueueSize()>0:\n",
    "        DEVS.ProcessNextEvent()  \n",
    "    serviceTime_avg.append(sum([x.waitingTimeInQueue for x in DEVS.stats])/len(DEVS.stats))\n",
    "\n",
    "    serviceTime_mean=mean(serviceTime_avg)  \n",
    "\n",
    "    s=0\n",
    "    if len(serviceTime_avg) < 2:\n",
    "        continue\n",
    "\n",
    "    #значение t-критерия Стьюдента\n",
    "    t_crit = t.ppf(alpha, df=iters-1)*(-1)\n",
    "    for i in range(len(serviceTime_avg)):\n",
    "        s+=pow(serviceTime_avg[i]-serviceTime_mean,2)\n",
    "    \n",
    "    s=sqrt(s/(len(serviceTime_avg)-1))\n",
    "    predict=t_crit*s*sqrt(1+(1/len(serviceTime_avg)))\n",
    "    trust=(t_crit*s)/sqrt(len(serviceTime_avg))\n",
    "    if predict < desired:\n",
    "        desired-=0.01\n",
    "        iters=0\n",
    "        continue\n",
    "    elif iters == max_iters:\n",
    "        print('Maximum iterations reached. Desired precision may not be achievable.')\n",
    "        break\n",
    "    \n",
    "\n",
    "print('\\nIt`s itearion', iters)\n",
    "print('Desired precision:',desired)\n",
    "print(\"Value of t-critical:\", t_crit)\n",
    "print('_____________________________________\\n\\nPrediction interval: {:.4f}'.format(serviceTime_mean),'\\u00B1 {:.4f}'.format(predict))\n",
    "print('Confidence interval: {:.4f}'.format(serviceTime_mean),'\\u00B1 {:.4f}'.format(trust))\n",
    "    \n"
   ]
  },
  {
   "cell_type": "code",
   "execution_count": 12,
   "metadata": {},
   "outputs": [
    {
     "data": {
      "image/png": "[encoded data removed]",
      "text/plain": [
       "<Figure size 640x480 with 1 Axes>"
      ]
     },
     "metadata": {},
     "output_type": "display_data"
    }
   ],
   "source": [
    "DrawSampleHistogram([x.waitingTimeInQueue for x in DEVS.stats],\"Waiting time in queue\")"
   ]
  }
 ],
 "metadata": {
  "kernelspec": {
   "display_name": "Python 3",
   "language": "python",
   "name": "python3"
  },
  "language_info": {
   "codemirror_mode": {
    "name": "ipython",
    "version": 3
   },
   "file_extension": ".py",
   "mimetype": "text/x-python",
   "name": "python",
   "nbconvert_exporter": "python",
   "pygments_lexer": "ipython3",
   "version": "3.9.13"
  },
  "orig_nbformat": 4
 },
 "nbformat": 4,
 "nbformat_minor": 2
}
